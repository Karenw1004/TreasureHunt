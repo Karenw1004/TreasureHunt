{
  "nbformat": 4,
  "nbformat_minor": 0,
  "metadata": {
    "colab": {
      "name": "TreasureHunt.ipynb",
      "provenance": [],
      "collapsed_sections": [],
      "authorship_tag": "ABX9TyO1np4pUssu4PI18pyVqOAg",
      "include_colab_link": true
    },
    "kernelspec": {
      "name": "python3",
      "display_name": "Python 3"
    },
    "language_info": {
      "name": "python"
    }
  },
  "cells": [
    {
      "cell_type": "markdown",
      "metadata": {
        "id": "view-in-github",
        "colab_type": "text"
      },
      "source": [
        "<a href=\"https://colab.research.google.com/github/Karenw1004/TreasureHunt/blob/main/notebooks/TreasureHunt.ipynb\" target=\"_parent\"><img src=\"https://colab.research.google.com/assets/colab-badge.svg\" alt=\"Open In Colab\"/></a>"
      ]
    },
    {
      "cell_type": "code",
      "metadata": {
        "id": "RLMa1EFm90Ph"
      },
      "source": [
        "import numpy as np\n",
        "from google.colab import output\n",
        "from tqdm import tqdm"
      ],
      "execution_count": 1,
      "outputs": []
    },
    {
      "cell_type": "markdown",
      "metadata": {
        "id": "ySXM8vmQ7Q0N"
      },
      "source": [
        "# Initialize the map without starting position "
      ]
    },
    {
      "cell_type": "code",
      "metadata": {
        "id": "O3JIwgifLIDT"
      },
      "source": [
        "#        0    1   2   3   4   5   6   7   8   9   10\n",
        "maze = [[\"W\",\"W\",\"W\",\"W\",\"W\",\"E\",\"W\",\"W\",\"W\",\"W\",\"W\"],\n",
        "        [\"W\",\"R\",\"R\",\"R\",\"R\",\"R\",\"R\",\"R\",\"R\",\"R\",\"W\"],\n",
        "        [\"W\",\"R\",\"W\",\"W\",\"W\",\"W\",\"W\",\"R\",\"W\",\"R\",\"W\"],\n",
        "        [\"W\",\"R\",\"R\",\"R\",\"R\",\"R\",\"R\",\"R\",\"W\",\"R\",\"W\"],\n",
        "        [\"W\",\"W\",\"W\",\"R\",\"W\",\"W\",\"W\",\"R\",\"W\",\"W\",\"W\"],\n",
        "        [\"R\",\"R\",\"R\",\"R\",\"R\",\"R\",\"R\",\"R\",\"R\",\"R\",\"R\"],\n",
        "        [\"W\",\"W\",\"W\",\"W\",\"W\",\"R\",\"W\",\"W\",\"W\",\"W\",\"W\"],\n",
        "        [\"W\",\"R\",\"R\",\"R\",\"R\",\"R\",\"R\",\"R\",\"R\",\"R\",\"W\"],\n",
        "        [\"W\",\"W\",\"W\",\"R\",\"W\",\"W\",\"W\",\"R\",\"W\",\"W\",\"W\"],\n",
        "        [\"R\",\"R\",\"R\",\"R\",\"R\",\"R\",\"R\",\"R\",\"R\",\"R\",\"R\"],\n",
        "        [\"W\",\"W\",\"W\",\"W\",\"W\",\"W\",\"W\",\"W\",\"W\",\"W\",\"W\"]]"
      ],
      "execution_count": 2,
      "outputs": []
    },
    {
      "cell_type": "code",
      "metadata": {
        "id": "TfwbvvcdA-OP"
      },
      "source": [
        "maze_row = len(maze)\n",
        "maze_col = len(maze[0])"
      ],
      "execution_count": 3,
      "outputs": []
    },
    {
      "cell_type": "markdown",
      "metadata": {
        "id": "FxXHq5HP6V16"
      },
      "source": [
        "Make a mapping dictionary with chars as key and tuple key\n",
        "\n",
        "> \"C\": (emoji-unicode, rewards)\n",
        "\n",
        "emoji-unicode is from <br/>\n",
        "https://unicode.org/emoji/charts/emoji-list.html"
      ]
    },
    {
      "cell_type": "code",
      "metadata": {
        "id": "-Pdwr2eYuVz-"
      },
      "source": [
        "mapping = {\n",
        "    # Road\n",
        "    \"R\": (\"\\N{white large square}\", -1),\n",
        "    # END\n",
        "    \"E\": (\"\\N{party popper}\", 1000) ,\n",
        "    # Wall\n",
        "    \"W\": (\"\\N{brick}\", -100),\n",
        "    # Human\n",
        "    \"H\": (\"\\N{girl}\", None),\n",
        "    # Gold\n",
        "    \"G\": (\"\\N{money bag}\", 30),\n",
        "    # Thief\n",
        "    \"T\": (\"\\N{smiling face with horns}\", -30),\n",
        "    # Bomb\n",
        "    \"B\" : (\"\\N{bomb}\", -1000) \n",
        "}"
      ],
      "execution_count": 4,
      "outputs": []
    },
    {
      "cell_type": "code",
      "metadata": {
        "id": "XOvlMLCqwAmz"
      },
      "source": [
        "def print_maze(human_pos):\n",
        "  for i in range(len(maze)):\n",
        "    for j in range(len(maze[0])):\n",
        "      if ((i == human_pos[0]) and (j == human_pos[1])):\n",
        "        val = \"H\"\n",
        "      else:\n",
        "        val = maze[i][j]\n",
        "      emoji = mapping[val][0]\n",
        "      print(emoji,end=\" \" )\n",
        "    print(\"\\n\")\n"
      ],
      "execution_count": 5,
      "outputs": []
    },
    {
      "cell_type": "code",
      "metadata": {
        "id": "7tn_G6AMUrcV",
        "colab": {
          "base_uri": "https://localhost:8080/"
        },
        "outputId": "6ea9278a-babb-4888-95f3-0472e4061b56"
      },
      "source": [
        "print_maze((maze_row+1,maze_col+1))"
      ],
      "execution_count": 6,
      "outputs": [
        {
          "output_type": "stream",
          "text": [
            "🧱 🧱 🧱 🧱 🧱 🎉 🧱 🧱 🧱 🧱 🧱 \n",
            "\n",
            "🧱 ⬜ ⬜ ⬜ ⬜ ⬜ ⬜ ⬜ ⬜ ⬜ 🧱 \n",
            "\n",
            "🧱 ⬜ 🧱 🧱 🧱 🧱 🧱 ⬜ 🧱 ⬜ 🧱 \n",
            "\n",
            "🧱 ⬜ ⬜ ⬜ ⬜ ⬜ ⬜ ⬜ 🧱 ⬜ 🧱 \n",
            "\n",
            "🧱 🧱 🧱 ⬜ 🧱 🧱 🧱 ⬜ 🧱 🧱 🧱 \n",
            "\n",
            "⬜ ⬜ ⬜ ⬜ ⬜ ⬜ ⬜ ⬜ ⬜ ⬜ ⬜ \n",
            "\n",
            "🧱 🧱 🧱 🧱 🧱 ⬜ 🧱 🧱 🧱 🧱 🧱 \n",
            "\n",
            "🧱 ⬜ ⬜ ⬜ ⬜ ⬜ ⬜ ⬜ ⬜ ⬜ 🧱 \n",
            "\n",
            "🧱 🧱 🧱 ⬜ 🧱 🧱 🧱 ⬜ 🧱 🧱 🧱 \n",
            "\n",
            "⬜ ⬜ ⬜ ⬜ ⬜ ⬜ ⬜ ⬜ ⬜ ⬜ ⬜ \n",
            "\n",
            "🧱 🧱 🧱 🧱 🧱 🧱 🧱 🧱 🧱 🧱 🧱 \n",
            "\n"
          ],
          "name": "stdout"
        }
      ]
    },
    {
      "cell_type": "markdown",
      "metadata": {
        "id": "3l2xTpSYW_QY"
      },
      "source": [
        "maze looks good"
      ]
    },
    {
      "cell_type": "markdown",
      "metadata": {
        "id": "UBWxF6KXQR_A"
      },
      "source": [
        "# Q table with n cols, m rows, number_of_actions\n",
        "0. Up\n",
        "1. Right\n",
        "2. Down\n",
        "3. Left"
      ]
    },
    {
      "cell_type": "code",
      "metadata": {
        "id": "ndsJlwcGGr_M"
      },
      "source": [
        "q_table = np.zeros((maze_row, maze_col,  4))"
      ],
      "execution_count": 7,
      "outputs": []
    },
    {
      "cell_type": "markdown",
      "metadata": {
        "id": "r84E7iNDRXOp"
      },
      "source": [
        "# Next action should be the max reward"
      ]
    },
    {
      "cell_type": "code",
      "metadata": {
        "id": "LeV0KCGqHdZh"
      },
      "source": [
        "def get_next_action(row, col, epilson):\n",
        "  if np.random.random() < epilson:\n",
        "    return np.argmax(q_table[row,col])\n",
        "  else:\n",
        "    return np.random.randint(4)"
      ],
      "execution_count": 8,
      "outputs": []
    },
    {
      "cell_type": "markdown",
      "metadata": {
        "id": "yeKBPavBRaow"
      },
      "source": [
        "# Movement of the suggested action"
      ]
    },
    {
      "cell_type": "code",
      "metadata": {
        "id": "IQkjPIm18oxq"
      },
      "source": [
        "def get_next_step(row, col,step_index):\n",
        "  up_right_down_left = [(row-1,col),(row,col+1),(row+1,col),(row,col-1)]\n",
        "  x, y = up_right_down_left[step_index]\n",
        "  if 0 <= x < maze_row and 0 <= y < maze_col:\n",
        "    return up_right_down_left[step_index]\n",
        "  else:\n",
        "    return (row, col) # No change"
      ],
      "execution_count": 9,
      "outputs": []
    },
    {
      "cell_type": "markdown",
      "metadata": {
        "id": "2l4fnMfnMkCF"
      },
      "source": [
        "## Terminal state is the end of an episode.\n",
        "- When you crash the wall, GAME OVER\n",
        "- When you reach the end, DONE\n"
      ]
    },
    {
      "cell_type": "code",
      "metadata": {
        "id": "6uxXMKbeKigJ"
      },
      "source": [
        "terminal_state = [\"W\",\"E\"]\n",
        "def is_terminal_state(row, col):\n",
        "  return maze[row][col] in terminal_state"
      ],
      "execution_count": 10,
      "outputs": []
    },
    {
      "cell_type": "code",
      "metadata": {
        "colab": {
          "base_uri": "https://localhost:8080/"
        },
        "id": "YdpgzTRPJLMp",
        "outputId": "526dc4e6-dc88-4391-8e17-2f34e1d19851"
      },
      "source": [
        "is_terminal_state(0,0)"
      ],
      "execution_count": 11,
      "outputs": [
        {
          "output_type": "execute_result",
          "data": {
            "text/plain": [
              "True"
            ]
          },
          "metadata": {
            "tags": []
          },
          "execution_count": 11
        }
      ]
    },
    {
      "cell_type": "markdown",
      "metadata": {
        "id": "MHK2sLHCrEkd"
      },
      "source": [
        "# Get the starting position (randomly) that should not be the terminal state"
      ]
    },
    {
      "cell_type": "code",
      "metadata": {
        "id": "he-NMSRVI4QD"
      },
      "source": [
        "def get_random_starting_pos():\n",
        "  while True:\n",
        "    row = np.random.randint(maze_row)\n",
        "    col = np.random.randint(maze_col)\n",
        "    if not is_terminal_state(row,col):\n",
        "      return (row,col)"
      ],
      "execution_count": 12,
      "outputs": []
    },
    {
      "cell_type": "code",
      "metadata": {
        "colab": {
          "base_uri": "https://localhost:8080/"
        },
        "id": "1bQqEA0hI_Eh",
        "outputId": "83da0130-983f-4033-f150-df50023a687b"
      },
      "source": [
        "get_random_starting_pos()"
      ],
      "execution_count": 13,
      "outputs": [
        {
          "output_type": "execute_result",
          "data": {
            "text/plain": [
              "(9, 4)"
            ]
          },
          "metadata": {
            "tags": []
          },
          "execution_count": 13
        }
      ]
    },
    {
      "cell_type": "markdown",
      "metadata": {
        "id": "ARNxA2giPpke"
      },
      "source": [
        "# Training"
      ]
    },
    {
      "cell_type": "code",
      "metadata": {
        "id": "5LV7604cGGj6"
      },
      "source": [
        "epilson = 0.9\n",
        "discount_factor = 0.9\n",
        "learning_rate = 0.9\n",
        "epochs = 1000"
      ],
      "execution_count": 14,
      "outputs": []
    },
    {
      "cell_type": "markdown",
      "metadata": {
        "id": "7qtDIS4kR1Ya"
      },
      "source": [
        "$\n",
        "\\underbrace{\\text{New}Q(s,a)}_{\\scriptstyle\\text{New Q-Value}} =\n",
        "\\underbrace{Q(s,a)}_{\\scriptstyle\\text{Old Q-Value}}+\n",
        "\\mkern-34mu\\underset{\\text{Learning Rate}}{\\underset{\\Bigl|}{\\alpha}}\\mkern-30mu[\\underbrace{R(s,a)}_{\\scriptstyle\\text{Reward}}+\n",
        "\\mkern-30mu\\underset{\\text{Discount rate}}{\\underset{\\Biggl|}{\\gamma}}\\mkern-75mu\\overbrace{\\max Q'(s',a')}^{\\scriptstyle\\substack{\\text{Maximum predicted reward, given} \\\\ \\text{new state and all possible actions}}}\\mkern-45mu-Q(s,a)]\n",
        "$"
      ]
    },
    {
      "cell_type": "code",
      "metadata": {
        "id": "mk70ZRrSGL64"
      },
      "source": [
        "def train():\n",
        "  for _ in tqdm(range(epochs)):\n",
        "    row, col = get_random_starting_pos()\n",
        "\n",
        "    while not is_terminal_state(row,col):\n",
        "      action_index = get_next_action(row,col, epilson)\n",
        "\n",
        "      old_row, old_col = row , col\n",
        "      row , col = get_next_step(row,col,action_index)\n",
        "\n",
        "      reward = mapping[ maze[row][col] ][1]\n",
        "      old_q_val = q_table[old_row, old_col, action_index]\n",
        "      temporal_diff = reward + (discount_factor * np.max(q_table[row, col])) - old_q_val\n",
        "      \n",
        "      new_q_val = old_q_val + (learning_rate * temporal_diff)\n",
        "      q_table[old_row, old_col, action_index] = new_q_val\n",
        "\n",
        "  print(\"\\nTraining done!\")"
      ],
      "execution_count": 15,
      "outputs": []
    },
    {
      "cell_type": "code",
      "metadata": {
        "colab": {
          "base_uri": "https://localhost:8080/"
        },
        "id": "nmvQWvwmaEHr",
        "outputId": "8e5662b5-04f0-45a5-b9eb-cbacec94371e"
      },
      "source": [
        "train()"
      ],
      "execution_count": 16,
      "outputs": [
        {
          "output_type": "stream",
          "text": [
            "100%|██████████| 1000/1000 [00:00<00:00, 5380.00it/s]"
          ],
          "name": "stderr"
        },
        {
          "output_type": "stream",
          "text": [
            "\n",
            "Training done!\n"
          ],
          "name": "stdout"
        },
        {
          "output_type": "stream",
          "text": [
            "\n"
          ],
          "name": "stderr"
        }
      ]
    },
    {
      "cell_type": "code",
      "metadata": {
        "id": "jfSkaEc7ODgJ"
      },
      "source": [
        "def get_shortest_path(row, col):\n",
        "  if is_terminal_state(row, col):\n",
        "    return []\n",
        "  else: \n",
        "    cur_row , cur_col = row, col\n",
        "    shortest_path = []\n",
        "    shortest_path.append((cur_row, cur_col))\n",
        "    while not is_terminal_state(cur_row, cur_col):\n",
        "      action_index = get_next_action(cur_row, cur_col, 1.)\n",
        "      cur_row, cur_col = get_next_step(cur_row, cur_col, action_index)\n",
        "      shortest_path.append((cur_row, cur_col))\n",
        "    return shortest_path"
      ],
      "execution_count": 17,
      "outputs": []
    },
    {
      "cell_type": "code",
      "metadata": {
        "id": "zeuFI5p4Pe0T"
      },
      "source": [
        "def print_movement(path):\n",
        "  for i in range(len(path)):\n",
        "    print(f\"Step {i}\")\n",
        "    coords = path[i]\n",
        "    print_maze(coords)"
      ],
      "execution_count": 18,
      "outputs": []
    },
    {
      "cell_type": "code",
      "metadata": {
        "id": "qw0CswO7UOhu",
        "colab": {
          "base_uri": "https://localhost:8080/"
        },
        "outputId": "a0e6670c-1af5-4dec-96c5-860773f3e309"
      },
      "source": [
        "human_pos = (9,0)\n",
        "path = get_shortest_path(human_pos[0], human_pos[1])\n",
        "print_movement(path)\n"
      ],
      "execution_count": 19,
      "outputs": [
        {
          "output_type": "stream",
          "text": [
            "Step 0\n",
            "🧱 🧱 🧱 🧱 🧱 🎉 🧱 🧱 🧱 🧱 🧱 \n",
            "\n",
            "🧱 ⬜ ⬜ ⬜ ⬜ ⬜ ⬜ ⬜ ⬜ ⬜ 🧱 \n",
            "\n",
            "🧱 ⬜ 🧱 🧱 🧱 🧱 🧱 ⬜ 🧱 ⬜ 🧱 \n",
            "\n",
            "🧱 ⬜ ⬜ ⬜ ⬜ ⬜ ⬜ ⬜ 🧱 ⬜ 🧱 \n",
            "\n",
            "🧱 🧱 🧱 ⬜ 🧱 🧱 🧱 ⬜ 🧱 🧱 🧱 \n",
            "\n",
            "⬜ ⬜ ⬜ ⬜ ⬜ ⬜ ⬜ ⬜ ⬜ ⬜ ⬜ \n",
            "\n",
            "🧱 🧱 🧱 🧱 🧱 ⬜ 🧱 🧱 🧱 🧱 🧱 \n",
            "\n",
            "🧱 ⬜ ⬜ ⬜ ⬜ ⬜ ⬜ ⬜ ⬜ ⬜ 🧱 \n",
            "\n",
            "🧱 🧱 🧱 ⬜ 🧱 🧱 🧱 ⬜ 🧱 🧱 🧱 \n",
            "\n",
            "👧 ⬜ ⬜ ⬜ ⬜ ⬜ ⬜ ⬜ ⬜ ⬜ ⬜ \n",
            "\n",
            "🧱 🧱 🧱 🧱 🧱 🧱 🧱 🧱 🧱 🧱 🧱 \n",
            "\n",
            "Step 1\n",
            "🧱 🧱 🧱 🧱 🧱 🎉 🧱 🧱 🧱 🧱 🧱 \n",
            "\n",
            "🧱 ⬜ ⬜ ⬜ ⬜ ⬜ ⬜ ⬜ ⬜ ⬜ 🧱 \n",
            "\n",
            "🧱 ⬜ 🧱 🧱 🧱 🧱 🧱 ⬜ 🧱 ⬜ 🧱 \n",
            "\n",
            "🧱 ⬜ ⬜ ⬜ ⬜ ⬜ ⬜ ⬜ 🧱 ⬜ 🧱 \n",
            "\n",
            "🧱 🧱 🧱 ⬜ 🧱 🧱 🧱 ⬜ 🧱 🧱 🧱 \n",
            "\n",
            "⬜ ⬜ ⬜ ⬜ ⬜ ⬜ ⬜ ⬜ ⬜ ⬜ ⬜ \n",
            "\n",
            "🧱 🧱 🧱 🧱 🧱 ⬜ 🧱 🧱 🧱 🧱 🧱 \n",
            "\n",
            "🧱 ⬜ ⬜ ⬜ ⬜ ⬜ ⬜ ⬜ ⬜ ⬜ 🧱 \n",
            "\n",
            "🧱 🧱 🧱 ⬜ 🧱 🧱 🧱 ⬜ 🧱 🧱 🧱 \n",
            "\n",
            "⬜ 👧 ⬜ ⬜ ⬜ ⬜ ⬜ ⬜ ⬜ ⬜ ⬜ \n",
            "\n",
            "🧱 🧱 🧱 🧱 🧱 🧱 🧱 🧱 🧱 🧱 🧱 \n",
            "\n",
            "Step 2\n",
            "🧱 🧱 🧱 🧱 🧱 🎉 🧱 🧱 🧱 🧱 🧱 \n",
            "\n",
            "🧱 ⬜ ⬜ ⬜ ⬜ ⬜ ⬜ ⬜ ⬜ ⬜ 🧱 \n",
            "\n",
            "🧱 ⬜ 🧱 🧱 🧱 🧱 🧱 ⬜ 🧱 ⬜ 🧱 \n",
            "\n",
            "🧱 ⬜ ⬜ ⬜ ⬜ ⬜ ⬜ ⬜ 🧱 ⬜ 🧱 \n",
            "\n",
            "🧱 🧱 🧱 ⬜ 🧱 🧱 🧱 ⬜ 🧱 🧱 🧱 \n",
            "\n",
            "⬜ ⬜ ⬜ ⬜ ⬜ ⬜ ⬜ ⬜ ⬜ ⬜ ⬜ \n",
            "\n",
            "🧱 🧱 🧱 🧱 🧱 ⬜ 🧱 🧱 🧱 🧱 🧱 \n",
            "\n",
            "🧱 ⬜ ⬜ ⬜ ⬜ ⬜ ⬜ ⬜ ⬜ ⬜ 🧱 \n",
            "\n",
            "🧱 🧱 🧱 ⬜ 🧱 🧱 🧱 ⬜ 🧱 🧱 🧱 \n",
            "\n",
            "⬜ ⬜ 👧 ⬜ ⬜ ⬜ ⬜ ⬜ ⬜ ⬜ ⬜ \n",
            "\n",
            "🧱 🧱 🧱 🧱 🧱 🧱 🧱 🧱 🧱 🧱 🧱 \n",
            "\n",
            "Step 3\n",
            "🧱 🧱 🧱 🧱 🧱 🎉 🧱 🧱 🧱 🧱 🧱 \n",
            "\n",
            "🧱 ⬜ ⬜ ⬜ ⬜ ⬜ ⬜ ⬜ ⬜ ⬜ 🧱 \n",
            "\n",
            "🧱 ⬜ 🧱 🧱 🧱 🧱 🧱 ⬜ 🧱 ⬜ 🧱 \n",
            "\n",
            "🧱 ⬜ ⬜ ⬜ ⬜ ⬜ ⬜ ⬜ 🧱 ⬜ 🧱 \n",
            "\n",
            "🧱 🧱 🧱 ⬜ 🧱 🧱 🧱 ⬜ 🧱 🧱 🧱 \n",
            "\n",
            "⬜ ⬜ ⬜ ⬜ ⬜ ⬜ ⬜ ⬜ ⬜ ⬜ ⬜ \n",
            "\n",
            "🧱 🧱 🧱 🧱 🧱 ⬜ 🧱 🧱 🧱 🧱 🧱 \n",
            "\n",
            "🧱 ⬜ ⬜ ⬜ ⬜ ⬜ ⬜ ⬜ ⬜ ⬜ 🧱 \n",
            "\n",
            "🧱 🧱 🧱 ⬜ 🧱 🧱 🧱 ⬜ 🧱 🧱 🧱 \n",
            "\n",
            "⬜ ⬜ ⬜ 👧 ⬜ ⬜ ⬜ ⬜ ⬜ ⬜ ⬜ \n",
            "\n",
            "🧱 🧱 🧱 🧱 🧱 🧱 🧱 🧱 🧱 🧱 🧱 \n",
            "\n",
            "Step 4\n",
            "🧱 🧱 🧱 🧱 🧱 🎉 🧱 🧱 🧱 🧱 🧱 \n",
            "\n",
            "🧱 ⬜ ⬜ ⬜ ⬜ ⬜ ⬜ ⬜ ⬜ ⬜ 🧱 \n",
            "\n",
            "🧱 ⬜ 🧱 🧱 🧱 🧱 🧱 ⬜ 🧱 ⬜ 🧱 \n",
            "\n",
            "🧱 ⬜ ⬜ ⬜ ⬜ ⬜ ⬜ ⬜ 🧱 ⬜ 🧱 \n",
            "\n",
            "🧱 🧱 🧱 ⬜ 🧱 🧱 🧱 ⬜ 🧱 🧱 🧱 \n",
            "\n",
            "⬜ ⬜ ⬜ ⬜ ⬜ ⬜ ⬜ ⬜ ⬜ ⬜ ⬜ \n",
            "\n",
            "🧱 🧱 🧱 🧱 🧱 ⬜ 🧱 🧱 🧱 🧱 🧱 \n",
            "\n",
            "🧱 ⬜ ⬜ ⬜ ⬜ ⬜ ⬜ ⬜ ⬜ ⬜ 🧱 \n",
            "\n",
            "🧱 🧱 🧱 👧 🧱 🧱 🧱 ⬜ 🧱 🧱 🧱 \n",
            "\n",
            "⬜ ⬜ ⬜ ⬜ ⬜ ⬜ ⬜ ⬜ ⬜ ⬜ ⬜ \n",
            "\n",
            "🧱 🧱 🧱 🧱 🧱 🧱 🧱 🧱 🧱 🧱 🧱 \n",
            "\n",
            "Step 5\n",
            "🧱 🧱 🧱 🧱 🧱 🎉 🧱 🧱 🧱 🧱 🧱 \n",
            "\n",
            "🧱 ⬜ ⬜ ⬜ ⬜ ⬜ ⬜ ⬜ ⬜ ⬜ 🧱 \n",
            "\n",
            "🧱 ⬜ 🧱 🧱 🧱 🧱 🧱 ⬜ 🧱 ⬜ 🧱 \n",
            "\n",
            "🧱 ⬜ ⬜ ⬜ ⬜ ⬜ ⬜ ⬜ 🧱 ⬜ 🧱 \n",
            "\n",
            "🧱 🧱 🧱 ⬜ 🧱 🧱 🧱 ⬜ 🧱 🧱 🧱 \n",
            "\n",
            "⬜ ⬜ ⬜ ⬜ ⬜ ⬜ ⬜ ⬜ ⬜ ⬜ ⬜ \n",
            "\n",
            "🧱 🧱 🧱 🧱 🧱 ⬜ 🧱 🧱 🧱 🧱 🧱 \n",
            "\n",
            "🧱 ⬜ ⬜ 👧 ⬜ ⬜ ⬜ ⬜ ⬜ ⬜ 🧱 \n",
            "\n",
            "🧱 🧱 🧱 ⬜ 🧱 🧱 🧱 ⬜ 🧱 🧱 🧱 \n",
            "\n",
            "⬜ ⬜ ⬜ ⬜ ⬜ ⬜ ⬜ ⬜ ⬜ ⬜ ⬜ \n",
            "\n",
            "🧱 🧱 🧱 🧱 🧱 🧱 🧱 🧱 🧱 🧱 🧱 \n",
            "\n",
            "Step 6\n",
            "🧱 🧱 🧱 🧱 🧱 🎉 🧱 🧱 🧱 🧱 🧱 \n",
            "\n",
            "🧱 ⬜ ⬜ ⬜ ⬜ ⬜ ⬜ ⬜ ⬜ ⬜ 🧱 \n",
            "\n",
            "🧱 ⬜ 🧱 🧱 🧱 🧱 🧱 ⬜ 🧱 ⬜ 🧱 \n",
            "\n",
            "🧱 ⬜ ⬜ ⬜ ⬜ ⬜ ⬜ ⬜ 🧱 ⬜ 🧱 \n",
            "\n",
            "🧱 🧱 🧱 ⬜ 🧱 🧱 🧱 ⬜ 🧱 🧱 🧱 \n",
            "\n",
            "⬜ ⬜ ⬜ ⬜ ⬜ ⬜ ⬜ ⬜ ⬜ ⬜ ⬜ \n",
            "\n",
            "🧱 🧱 🧱 🧱 🧱 ⬜ 🧱 🧱 🧱 🧱 🧱 \n",
            "\n",
            "🧱 ⬜ ⬜ ⬜ 👧 ⬜ ⬜ ⬜ ⬜ ⬜ 🧱 \n",
            "\n",
            "🧱 🧱 🧱 ⬜ 🧱 🧱 🧱 ⬜ 🧱 🧱 🧱 \n",
            "\n",
            "⬜ ⬜ ⬜ ⬜ ⬜ ⬜ ⬜ ⬜ ⬜ ⬜ ⬜ \n",
            "\n",
            "🧱 🧱 🧱 🧱 🧱 🧱 🧱 🧱 🧱 🧱 🧱 \n",
            "\n",
            "Step 7\n",
            "🧱 🧱 🧱 🧱 🧱 🎉 🧱 🧱 🧱 🧱 🧱 \n",
            "\n",
            "🧱 ⬜ ⬜ ⬜ ⬜ ⬜ ⬜ ⬜ ⬜ ⬜ 🧱 \n",
            "\n",
            "🧱 ⬜ 🧱 🧱 🧱 🧱 🧱 ⬜ 🧱 ⬜ 🧱 \n",
            "\n",
            "🧱 ⬜ ⬜ ⬜ ⬜ ⬜ ⬜ ⬜ 🧱 ⬜ 🧱 \n",
            "\n",
            "🧱 🧱 🧱 ⬜ 🧱 🧱 🧱 ⬜ 🧱 🧱 🧱 \n",
            "\n",
            "⬜ ⬜ ⬜ ⬜ ⬜ ⬜ ⬜ ⬜ ⬜ ⬜ ⬜ \n",
            "\n",
            "🧱 🧱 🧱 🧱 🧱 ⬜ 🧱 🧱 🧱 🧱 🧱 \n",
            "\n",
            "🧱 ⬜ ⬜ ⬜ ⬜ 👧 ⬜ ⬜ ⬜ ⬜ 🧱 \n",
            "\n",
            "🧱 🧱 🧱 ⬜ 🧱 🧱 🧱 ⬜ 🧱 🧱 🧱 \n",
            "\n",
            "⬜ ⬜ ⬜ ⬜ ⬜ ⬜ ⬜ ⬜ ⬜ ⬜ ⬜ \n",
            "\n",
            "🧱 🧱 🧱 🧱 🧱 🧱 🧱 🧱 🧱 🧱 🧱 \n",
            "\n",
            "Step 8\n",
            "🧱 🧱 🧱 🧱 🧱 🎉 🧱 🧱 🧱 🧱 🧱 \n",
            "\n",
            "🧱 ⬜ ⬜ ⬜ ⬜ ⬜ ⬜ ⬜ ⬜ ⬜ 🧱 \n",
            "\n",
            "🧱 ⬜ 🧱 🧱 🧱 🧱 🧱 ⬜ 🧱 ⬜ 🧱 \n",
            "\n",
            "🧱 ⬜ ⬜ ⬜ ⬜ ⬜ ⬜ ⬜ 🧱 ⬜ 🧱 \n",
            "\n",
            "🧱 🧱 🧱 ⬜ 🧱 🧱 🧱 ⬜ 🧱 🧱 🧱 \n",
            "\n",
            "⬜ ⬜ ⬜ ⬜ ⬜ ⬜ ⬜ ⬜ ⬜ ⬜ ⬜ \n",
            "\n",
            "🧱 🧱 🧱 🧱 🧱 👧 🧱 🧱 🧱 🧱 🧱 \n",
            "\n",
            "🧱 ⬜ ⬜ ⬜ ⬜ ⬜ ⬜ ⬜ ⬜ ⬜ 🧱 \n",
            "\n",
            "🧱 🧱 🧱 ⬜ 🧱 🧱 🧱 ⬜ 🧱 🧱 🧱 \n",
            "\n",
            "⬜ ⬜ ⬜ ⬜ ⬜ ⬜ ⬜ ⬜ ⬜ ⬜ ⬜ \n",
            "\n",
            "🧱 🧱 🧱 🧱 🧱 🧱 🧱 🧱 🧱 🧱 🧱 \n",
            "\n",
            "Step 9\n",
            "🧱 🧱 🧱 🧱 🧱 🎉 🧱 🧱 🧱 🧱 🧱 \n",
            "\n",
            "🧱 ⬜ ⬜ ⬜ ⬜ ⬜ ⬜ ⬜ ⬜ ⬜ 🧱 \n",
            "\n",
            "🧱 ⬜ 🧱 🧱 🧱 🧱 🧱 ⬜ 🧱 ⬜ 🧱 \n",
            "\n",
            "🧱 ⬜ ⬜ ⬜ ⬜ ⬜ ⬜ ⬜ 🧱 ⬜ 🧱 \n",
            "\n",
            "🧱 🧱 🧱 ⬜ 🧱 🧱 🧱 ⬜ 🧱 🧱 🧱 \n",
            "\n",
            "⬜ ⬜ ⬜ ⬜ ⬜ 👧 ⬜ ⬜ ⬜ ⬜ ⬜ \n",
            "\n",
            "🧱 🧱 🧱 🧱 🧱 ⬜ 🧱 🧱 🧱 🧱 🧱 \n",
            "\n",
            "🧱 ⬜ ⬜ ⬜ ⬜ ⬜ ⬜ ⬜ ⬜ ⬜ 🧱 \n",
            "\n",
            "🧱 🧱 🧱 ⬜ 🧱 🧱 🧱 ⬜ 🧱 🧱 🧱 \n",
            "\n",
            "⬜ ⬜ ⬜ ⬜ ⬜ ⬜ ⬜ ⬜ ⬜ ⬜ ⬜ \n",
            "\n",
            "🧱 🧱 🧱 🧱 🧱 🧱 🧱 🧱 🧱 🧱 🧱 \n",
            "\n",
            "Step 10\n",
            "🧱 🧱 🧱 🧱 🧱 🎉 🧱 🧱 🧱 🧱 🧱 \n",
            "\n",
            "🧱 ⬜ ⬜ ⬜ ⬜ ⬜ ⬜ ⬜ ⬜ ⬜ 🧱 \n",
            "\n",
            "🧱 ⬜ 🧱 🧱 🧱 🧱 🧱 ⬜ 🧱 ⬜ 🧱 \n",
            "\n",
            "🧱 ⬜ ⬜ ⬜ ⬜ ⬜ ⬜ ⬜ 🧱 ⬜ 🧱 \n",
            "\n",
            "🧱 🧱 🧱 ⬜ 🧱 🧱 🧱 ⬜ 🧱 🧱 🧱 \n",
            "\n",
            "⬜ ⬜ ⬜ ⬜ ⬜ ⬜ 👧 ⬜ ⬜ ⬜ ⬜ \n",
            "\n",
            "🧱 🧱 🧱 🧱 🧱 ⬜ 🧱 🧱 🧱 🧱 🧱 \n",
            "\n",
            "🧱 ⬜ ⬜ ⬜ ⬜ ⬜ ⬜ ⬜ ⬜ ⬜ 🧱 \n",
            "\n",
            "🧱 🧱 🧱 ⬜ 🧱 🧱 🧱 ⬜ 🧱 🧱 🧱 \n",
            "\n",
            "⬜ ⬜ ⬜ ⬜ ⬜ ⬜ ⬜ ⬜ ⬜ ⬜ ⬜ \n",
            "\n",
            "🧱 🧱 🧱 🧱 🧱 🧱 🧱 🧱 🧱 🧱 🧱 \n",
            "\n",
            "Step 11\n",
            "🧱 🧱 🧱 🧱 🧱 🎉 🧱 🧱 🧱 🧱 🧱 \n",
            "\n",
            "🧱 ⬜ ⬜ ⬜ ⬜ ⬜ ⬜ ⬜ ⬜ ⬜ 🧱 \n",
            "\n",
            "🧱 ⬜ 🧱 🧱 🧱 🧱 🧱 ⬜ 🧱 ⬜ 🧱 \n",
            "\n",
            "🧱 ⬜ ⬜ ⬜ ⬜ ⬜ ⬜ ⬜ 🧱 ⬜ 🧱 \n",
            "\n",
            "🧱 🧱 🧱 ⬜ 🧱 🧱 🧱 ⬜ 🧱 🧱 🧱 \n",
            "\n",
            "⬜ ⬜ ⬜ ⬜ ⬜ ⬜ ⬜ 👧 ⬜ ⬜ ⬜ \n",
            "\n",
            "🧱 🧱 🧱 🧱 🧱 ⬜ 🧱 🧱 🧱 🧱 🧱 \n",
            "\n",
            "🧱 ⬜ ⬜ ⬜ ⬜ ⬜ ⬜ ⬜ ⬜ ⬜ 🧱 \n",
            "\n",
            "🧱 🧱 🧱 ⬜ 🧱 🧱 🧱 ⬜ 🧱 🧱 🧱 \n",
            "\n",
            "⬜ ⬜ ⬜ ⬜ ⬜ ⬜ ⬜ ⬜ ⬜ ⬜ ⬜ \n",
            "\n",
            "🧱 🧱 🧱 🧱 🧱 🧱 🧱 🧱 🧱 🧱 🧱 \n",
            "\n",
            "Step 12\n",
            "🧱 🧱 🧱 🧱 🧱 🎉 🧱 🧱 🧱 🧱 🧱 \n",
            "\n",
            "🧱 ⬜ ⬜ ⬜ ⬜ ⬜ ⬜ ⬜ ⬜ ⬜ 🧱 \n",
            "\n",
            "🧱 ⬜ 🧱 🧱 🧱 🧱 🧱 ⬜ 🧱 ⬜ 🧱 \n",
            "\n",
            "🧱 ⬜ ⬜ ⬜ ⬜ ⬜ ⬜ ⬜ 🧱 ⬜ 🧱 \n",
            "\n",
            "🧱 🧱 🧱 ⬜ 🧱 🧱 🧱 👧 🧱 🧱 🧱 \n",
            "\n",
            "⬜ ⬜ ⬜ ⬜ ⬜ ⬜ ⬜ ⬜ ⬜ ⬜ ⬜ \n",
            "\n",
            "🧱 🧱 🧱 🧱 🧱 ⬜ 🧱 🧱 🧱 🧱 🧱 \n",
            "\n",
            "🧱 ⬜ ⬜ ⬜ ⬜ ⬜ ⬜ ⬜ ⬜ ⬜ 🧱 \n",
            "\n",
            "🧱 🧱 🧱 ⬜ 🧱 🧱 🧱 ⬜ 🧱 🧱 🧱 \n",
            "\n",
            "⬜ ⬜ ⬜ ⬜ ⬜ ⬜ ⬜ ⬜ ⬜ ⬜ ⬜ \n",
            "\n",
            "🧱 🧱 🧱 🧱 🧱 🧱 🧱 🧱 🧱 🧱 🧱 \n",
            "\n",
            "Step 13\n",
            "🧱 🧱 🧱 🧱 🧱 🎉 🧱 🧱 🧱 🧱 🧱 \n",
            "\n",
            "🧱 ⬜ ⬜ ⬜ ⬜ ⬜ ⬜ ⬜ ⬜ ⬜ 🧱 \n",
            "\n",
            "🧱 ⬜ 🧱 🧱 🧱 🧱 🧱 ⬜ 🧱 ⬜ 🧱 \n",
            "\n",
            "🧱 ⬜ ⬜ ⬜ ⬜ ⬜ ⬜ 👧 🧱 ⬜ 🧱 \n",
            "\n",
            "🧱 🧱 🧱 ⬜ 🧱 🧱 🧱 ⬜ 🧱 🧱 🧱 \n",
            "\n",
            "⬜ ⬜ ⬜ ⬜ ⬜ ⬜ ⬜ ⬜ ⬜ ⬜ ⬜ \n",
            "\n",
            "🧱 🧱 🧱 🧱 🧱 ⬜ 🧱 🧱 🧱 🧱 🧱 \n",
            "\n",
            "🧱 ⬜ ⬜ ⬜ ⬜ ⬜ ⬜ ⬜ ⬜ ⬜ 🧱 \n",
            "\n",
            "🧱 🧱 🧱 ⬜ 🧱 🧱 🧱 ⬜ 🧱 🧱 🧱 \n",
            "\n",
            "⬜ ⬜ ⬜ ⬜ ⬜ ⬜ ⬜ ⬜ ⬜ ⬜ ⬜ \n",
            "\n",
            "🧱 🧱 🧱 🧱 🧱 🧱 🧱 🧱 🧱 🧱 🧱 \n",
            "\n",
            "Step 14\n",
            "🧱 🧱 🧱 🧱 🧱 🎉 🧱 🧱 🧱 🧱 🧱 \n",
            "\n",
            "🧱 ⬜ ⬜ ⬜ ⬜ ⬜ ⬜ ⬜ ⬜ ⬜ 🧱 \n",
            "\n",
            "🧱 ⬜ 🧱 🧱 🧱 🧱 🧱 👧 🧱 ⬜ 🧱 \n",
            "\n",
            "🧱 ⬜ ⬜ ⬜ ⬜ ⬜ ⬜ ⬜ 🧱 ⬜ 🧱 \n",
            "\n",
            "🧱 🧱 🧱 ⬜ 🧱 🧱 🧱 ⬜ 🧱 🧱 🧱 \n",
            "\n",
            "⬜ ⬜ ⬜ ⬜ ⬜ ⬜ ⬜ ⬜ ⬜ ⬜ ⬜ \n",
            "\n",
            "🧱 🧱 🧱 🧱 🧱 ⬜ 🧱 🧱 🧱 🧱 🧱 \n",
            "\n",
            "🧱 ⬜ ⬜ ⬜ ⬜ ⬜ ⬜ ⬜ ⬜ ⬜ 🧱 \n",
            "\n",
            "🧱 🧱 🧱 ⬜ 🧱 🧱 🧱 ⬜ 🧱 🧱 🧱 \n",
            "\n",
            "⬜ ⬜ ⬜ ⬜ ⬜ ⬜ ⬜ ⬜ ⬜ ⬜ ⬜ \n",
            "\n",
            "🧱 🧱 🧱 🧱 🧱 🧱 🧱 🧱 🧱 🧱 🧱 \n",
            "\n",
            "Step 15\n",
            "🧱 🧱 🧱 🧱 🧱 🎉 🧱 🧱 🧱 🧱 🧱 \n",
            "\n",
            "🧱 ⬜ ⬜ ⬜ ⬜ ⬜ ⬜ 👧 ⬜ ⬜ 🧱 \n",
            "\n",
            "🧱 ⬜ 🧱 🧱 🧱 🧱 🧱 ⬜ 🧱 ⬜ 🧱 \n",
            "\n",
            "🧱 ⬜ ⬜ ⬜ ⬜ ⬜ ⬜ ⬜ 🧱 ⬜ 🧱 \n",
            "\n",
            "🧱 🧱 🧱 ⬜ 🧱 🧱 🧱 ⬜ 🧱 🧱 🧱 \n",
            "\n",
            "⬜ ⬜ ⬜ ⬜ ⬜ ⬜ ⬜ ⬜ ⬜ ⬜ ⬜ \n",
            "\n",
            "🧱 🧱 🧱 🧱 🧱 ⬜ 🧱 🧱 🧱 🧱 🧱 \n",
            "\n",
            "🧱 ⬜ ⬜ ⬜ ⬜ ⬜ ⬜ ⬜ ⬜ ⬜ 🧱 \n",
            "\n",
            "🧱 🧱 🧱 ⬜ 🧱 🧱 🧱 ⬜ 🧱 🧱 🧱 \n",
            "\n",
            "⬜ ⬜ ⬜ ⬜ ⬜ ⬜ ⬜ ⬜ ⬜ ⬜ ⬜ \n",
            "\n",
            "🧱 🧱 🧱 🧱 🧱 🧱 🧱 🧱 🧱 🧱 🧱 \n",
            "\n",
            "Step 16\n",
            "🧱 🧱 🧱 🧱 🧱 🎉 🧱 🧱 🧱 🧱 🧱 \n",
            "\n",
            "🧱 ⬜ ⬜ ⬜ ⬜ ⬜ 👧 ⬜ ⬜ ⬜ 🧱 \n",
            "\n",
            "🧱 ⬜ 🧱 🧱 🧱 🧱 🧱 ⬜ 🧱 ⬜ 🧱 \n",
            "\n",
            "🧱 ⬜ ⬜ ⬜ ⬜ ⬜ ⬜ ⬜ 🧱 ⬜ 🧱 \n",
            "\n",
            "🧱 🧱 🧱 ⬜ 🧱 🧱 🧱 ⬜ 🧱 🧱 🧱 \n",
            "\n",
            "⬜ ⬜ ⬜ ⬜ ⬜ ⬜ ⬜ ⬜ ⬜ ⬜ ⬜ \n",
            "\n",
            "🧱 🧱 🧱 🧱 🧱 ⬜ 🧱 🧱 🧱 🧱 🧱 \n",
            "\n",
            "🧱 ⬜ ⬜ ⬜ ⬜ ⬜ ⬜ ⬜ ⬜ ⬜ 🧱 \n",
            "\n",
            "🧱 🧱 🧱 ⬜ 🧱 🧱 🧱 ⬜ 🧱 🧱 🧱 \n",
            "\n",
            "⬜ ⬜ ⬜ ⬜ ⬜ ⬜ ⬜ ⬜ ⬜ ⬜ ⬜ \n",
            "\n",
            "🧱 🧱 🧱 🧱 🧱 🧱 🧱 🧱 🧱 🧱 🧱 \n",
            "\n",
            "Step 17\n",
            "🧱 🧱 🧱 🧱 🧱 🎉 🧱 🧱 🧱 🧱 🧱 \n",
            "\n",
            "🧱 ⬜ ⬜ ⬜ ⬜ 👧 ⬜ ⬜ ⬜ ⬜ 🧱 \n",
            "\n",
            "🧱 ⬜ 🧱 🧱 🧱 🧱 🧱 ⬜ 🧱 ⬜ 🧱 \n",
            "\n",
            "🧱 ⬜ ⬜ ⬜ ⬜ ⬜ ⬜ ⬜ 🧱 ⬜ 🧱 \n",
            "\n",
            "🧱 🧱 🧱 ⬜ 🧱 🧱 🧱 ⬜ 🧱 🧱 🧱 \n",
            "\n",
            "⬜ ⬜ ⬜ ⬜ ⬜ ⬜ ⬜ ⬜ ⬜ ⬜ ⬜ \n",
            "\n",
            "🧱 🧱 🧱 🧱 🧱 ⬜ 🧱 🧱 🧱 🧱 🧱 \n",
            "\n",
            "🧱 ⬜ ⬜ ⬜ ⬜ ⬜ ⬜ ⬜ ⬜ ⬜ 🧱 \n",
            "\n",
            "🧱 🧱 🧱 ⬜ 🧱 🧱 🧱 ⬜ 🧱 🧱 🧱 \n",
            "\n",
            "⬜ ⬜ ⬜ ⬜ ⬜ ⬜ ⬜ ⬜ ⬜ ⬜ ⬜ \n",
            "\n",
            "🧱 🧱 🧱 🧱 🧱 🧱 🧱 🧱 🧱 🧱 🧱 \n",
            "\n",
            "Step 18\n",
            "🧱 🧱 🧱 🧱 🧱 👧 🧱 🧱 🧱 🧱 🧱 \n",
            "\n",
            "🧱 ⬜ ⬜ ⬜ ⬜ ⬜ ⬜ ⬜ ⬜ ⬜ 🧱 \n",
            "\n",
            "🧱 ⬜ 🧱 🧱 🧱 🧱 🧱 ⬜ 🧱 ⬜ 🧱 \n",
            "\n",
            "🧱 ⬜ ⬜ ⬜ ⬜ ⬜ ⬜ ⬜ 🧱 ⬜ 🧱 \n",
            "\n",
            "🧱 🧱 🧱 ⬜ 🧱 🧱 🧱 ⬜ 🧱 🧱 🧱 \n",
            "\n",
            "⬜ ⬜ ⬜ ⬜ ⬜ ⬜ ⬜ ⬜ ⬜ ⬜ ⬜ \n",
            "\n",
            "🧱 🧱 🧱 🧱 🧱 ⬜ 🧱 🧱 🧱 🧱 🧱 \n",
            "\n",
            "🧱 ⬜ ⬜ ⬜ ⬜ ⬜ ⬜ ⬜ ⬜ ⬜ 🧱 \n",
            "\n",
            "🧱 🧱 🧱 ⬜ 🧱 🧱 🧱 ⬜ 🧱 🧱 🧱 \n",
            "\n",
            "⬜ ⬜ ⬜ ⬜ ⬜ ⬜ ⬜ ⬜ ⬜ ⬜ ⬜ \n",
            "\n",
            "🧱 🧱 🧱 🧱 🧱 🧱 🧱 🧱 🧱 🧱 🧱 \n",
            "\n"
          ],
          "name": "stdout"
        }
      ]
    },
    {
      "cell_type": "markdown",
      "metadata": {
        "id": "JRnZPOKGZUl7"
      },
      "source": [
        "You can see that we successfully train to reach the goal with shortest path and without crashing the wall"
      ]
    },
    {
      "cell_type": "markdown",
      "metadata": {
        "id": "Zan7qBwdxSxy"
      },
      "source": [
        "# Summary"
      ]
    },
    {
      "cell_type": "code",
      "metadata": {
        "id": "taWXGDGJd-hk"
      },
      "source": [
        "class ReinforcementLearning:\n",
        "  def __init__(self,maze):\n",
        "    self.maze = maze\n",
        "    self.maze_row = len(self.maze)\n",
        "    self.maze_col = len(self.maze[0])\n",
        "    self.number_of_actions = 4\n",
        "    self.q_table = np.zeros((self.maze_row, self.maze_col, self.number_of_actions))\n",
        "    \n",
        "    self.epilson = 1\n",
        "    self.discount_factor = 0.9\n",
        "    self.learning_rate = 0.9\n",
        "    self.epochs = 1000\n",
        "\n",
        "    self.terminal_state = [\"W\",\"E\"]\n",
        "    self.point = 0\n",
        "\n",
        "  def get_next_action(self, row, col):\n",
        "    if np.random.random() < self.epilson:\n",
        "      return np.argmax(self.q_table[row,col])\n",
        "    else:\n",
        "      return np.random.randint(self.number_of_actions) \n",
        "  \n",
        "  def get_next_step(self, row, col, step_index):\n",
        "    up_right_down_left = [(row-1,col),(row,col+1),(row+1,col),(row,col-1)]\n",
        "    x, y = up_right_down_left[step_index]\n",
        "    if 0 <= x < self.maze_row and 0 <= y < self.maze_col:\n",
        "      return up_right_down_left[step_index]\n",
        "    else:\n",
        "      return (row, col) # No change\n",
        "\n",
        "  def is_terminal_state(self, row, col):\n",
        "    return self.maze[row][col] in terminal_state\n",
        "  \n",
        "  def get_random_starting_pos(self):\n",
        "    while True:\n",
        "      row = np.random.randint(self.maze_row)\n",
        "      col = np.random.randint(self.maze_col)\n",
        "      if not self.is_terminal_state(row,col):\n",
        "        return (row,col)\n",
        "  \n",
        "  def train(self):\n",
        "    for _ in tqdm(range(self.epochs)):\n",
        "      row, col = self.get_random_starting_pos()\n",
        "\n",
        "      while not is_terminal_state(row,col):\n",
        "        action_index = get_next_action(row,col, epilson)\n",
        "\n",
        "        old_row, old_col = row , col\n",
        "        row , col = self.get_next_step(row,col,action_index)\n",
        "\n",
        "        reward = mapping[ maze[row][col] ][1]\n",
        "        old_q_val = self.q_table[old_row, old_col, action_index]\n",
        "        temporal_diff = reward + (discount_factor * np.max(self.q_table[row, col])) - old_q_val\n",
        "        \n",
        "        new_q_val = old_q_val + (learning_rate * temporal_diff)\n",
        "        self.q_table[old_row, old_col, action_index] = new_q_val\n",
        "    \n",
        "    print(\"\\nTraining Done\")\n",
        "\n",
        "  def points_update(self, row, col):\n",
        "    if self.maze[row][col] == \"T\":\n",
        "      self.maze[row][col] = \"R\"\n",
        "      self.point -=1\n",
        "    elif self.maze[row][col] == \"G\":\n",
        "      self.maze[row][col] = \"R\"\n",
        "      self.point += 1\n",
        "\n",
        "  def print_maze(self,human_pos):\n",
        "    for i in range(len(maze)):\n",
        "      for j in range(len(maze[0])):\n",
        "        if ((i == human_pos[0]) and (j == human_pos[1])):\n",
        "          val = \"H\"\n",
        "        else:\n",
        "          val = maze[i][j]\n",
        "        emoji = mapping[val][0]\n",
        "        print(emoji,end=\" \" )\n",
        "      print(\"\\n\")\n",
        "\n",
        "  def run(self,row, col):\n",
        "    if is_terminal_state(row, col):\n",
        "      print(\"Not a valid start position\")\n",
        "    else: \n",
        "      cur_row , cur_col = row, col\n",
        "      shortest_path = []\n",
        "      shortest_path.append((cur_row, cur_col))\n",
        "      self.points_update(cur_row, cur_col)\n",
        "      i = 0 \n",
        "      print(f\"Step {i}\\tCur Points:{self.point}\")\n",
        "      self.print_maze((cur_row, cur_col))\n",
        "      while not is_terminal_state(cur_row, cur_col):\n",
        "        action_index = get_next_action(cur_row, cur_col, 1.)\n",
        "        cur_row, cur_col = get_next_step(cur_row, cur_col, action_index)\n",
        "        coords = (cur_row, cur_col)\n",
        "        shortest_path.append(coords)\n",
        "        self.points_update(cur_row, cur_col)\n",
        "        print(f\"Step {i}\\tCur Points:{self.point}\")\n",
        "        self.print_maze(coords)\n",
        "        i += 1\n",
        "      \n",
        "      print(\"\\nFinish Running\")"
      ],
      "execution_count": 20,
      "outputs": []
    },
    {
      "cell_type": "markdown",
      "metadata": {
        "id": "3OYRUJZ9a4fH"
      },
      "source": [
        "# Future todo\n",
        "- Add bomb to lose health. \n",
        "- When health is 0, game over"
      ]
    }
  ]
}